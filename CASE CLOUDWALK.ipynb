{
 "cells": [
  {
   "cell_type": "markdown",
   "id": "5c4cbfbe",
   "metadata": {},
   "source": [
    "# Importing library pandas"
   ]
  },
  {
   "cell_type": "code",
   "execution_count": 1,
   "id": "eb1f43ca",
   "metadata": {},
   "outputs": [],
   "source": [
    "import pandas as pd"
   ]
  },
  {
   "cell_type": "markdown",
   "id": "3a4cbbc4",
   "metadata": {},
   "source": [
    "# Reading the table transactional-sample"
   ]
  },
  {
   "cell_type": "code",
   "execution_count": 29,
   "id": "31c3e5b1",
   "metadata": {
    "scrolled": true
   },
   "outputs": [
    {
     "data": {
      "text/html": [
       "<div>\n",
       "<style scoped>\n",
       "    .dataframe tbody tr th:only-of-type {\n",
       "        vertical-align: middle;\n",
       "    }\n",
       "\n",
       "    .dataframe tbody tr th {\n",
       "        vertical-align: top;\n",
       "    }\n",
       "\n",
       "    .dataframe thead th {\n",
       "        text-align: right;\n",
       "    }\n",
       "</style>\n",
       "<table border=\"1\" class=\"dataframe\">\n",
       "  <thead>\n",
       "    <tr style=\"text-align: right;\">\n",
       "      <th></th>\n",
       "      <th>transaction_id</th>\n",
       "      <th>merchant_id</th>\n",
       "      <th>user_id</th>\n",
       "      <th>card_number</th>\n",
       "      <th>transaction_date</th>\n",
       "      <th>transaction_amount</th>\n",
       "      <th>device_id</th>\n",
       "      <th>has_cbk</th>\n",
       "    </tr>\n",
       "  </thead>\n",
       "  <tbody>\n",
       "    <tr>\n",
       "      <th>0</th>\n",
       "      <td>21320398</td>\n",
       "      <td>29744</td>\n",
       "      <td>97051</td>\n",
       "      <td>434505******9116</td>\n",
       "      <td>2019-12-01T23:16:32.812632</td>\n",
       "      <td>374.56</td>\n",
       "      <td>285475.0</td>\n",
       "      <td>False</td>\n",
       "    </tr>\n",
       "    <tr>\n",
       "      <th>1</th>\n",
       "      <td>21320399</td>\n",
       "      <td>92895</td>\n",
       "      <td>2708</td>\n",
       "      <td>444456******4210</td>\n",
       "      <td>2019-12-01T22:45:37.873639</td>\n",
       "      <td>734.87</td>\n",
       "      <td>497105.0</td>\n",
       "      <td>True</td>\n",
       "    </tr>\n",
       "    <tr>\n",
       "      <th>2</th>\n",
       "      <td>21320400</td>\n",
       "      <td>47759</td>\n",
       "      <td>14777</td>\n",
       "      <td>425850******7024</td>\n",
       "      <td>2019-12-01T22:22:43.021495</td>\n",
       "      <td>760.36</td>\n",
       "      <td>NaN</td>\n",
       "      <td>False</td>\n",
       "    </tr>\n",
       "    <tr>\n",
       "      <th>3</th>\n",
       "      <td>21320401</td>\n",
       "      <td>68657</td>\n",
       "      <td>69758</td>\n",
       "      <td>464296******3991</td>\n",
       "      <td>2019-12-01T21:59:19.797129</td>\n",
       "      <td>2556.13</td>\n",
       "      <td>NaN</td>\n",
       "      <td>True</td>\n",
       "    </tr>\n",
       "    <tr>\n",
       "      <th>4</th>\n",
       "      <td>21320402</td>\n",
       "      <td>54075</td>\n",
       "      <td>64367</td>\n",
       "      <td>650487******6116</td>\n",
       "      <td>2019-12-01T21:30:53.347051</td>\n",
       "      <td>55.36</td>\n",
       "      <td>860232.0</td>\n",
       "      <td>False</td>\n",
       "    </tr>\n",
       "    <tr>\n",
       "      <th>...</th>\n",
       "      <td>...</td>\n",
       "      <td>...</td>\n",
       "      <td>...</td>\n",
       "      <td>...</td>\n",
       "      <td>...</td>\n",
       "      <td>...</td>\n",
       "      <td>...</td>\n",
       "      <td>...</td>\n",
       "    </tr>\n",
       "    <tr>\n",
       "      <th>3194</th>\n",
       "      <td>21323592</td>\n",
       "      <td>50493</td>\n",
       "      <td>49581</td>\n",
       "      <td>650486******4139</td>\n",
       "      <td>2019-11-01T13:05:34.054967</td>\n",
       "      <td>744.15</td>\n",
       "      <td>NaN</td>\n",
       "      <td>False</td>\n",
       "    </tr>\n",
       "    <tr>\n",
       "      <th>3195</th>\n",
       "      <td>21323593</td>\n",
       "      <td>9603</td>\n",
       "      <td>59275</td>\n",
       "      <td>528052******3611</td>\n",
       "      <td>2019-11-01T11:47:02.404963</td>\n",
       "      <td>1403.67</td>\n",
       "      <td>NaN</td>\n",
       "      <td>False</td>\n",
       "    </tr>\n",
       "    <tr>\n",
       "      <th>3196</th>\n",
       "      <td>21323594</td>\n",
       "      <td>57997</td>\n",
       "      <td>84486</td>\n",
       "      <td>522688******9874</td>\n",
       "      <td>2019-11-01T10:23:50.555604</td>\n",
       "      <td>1.55</td>\n",
       "      <td>NaN</td>\n",
       "      <td>False</td>\n",
       "    </tr>\n",
       "    <tr>\n",
       "      <th>3197</th>\n",
       "      <td>21323595</td>\n",
       "      <td>35930</td>\n",
       "      <td>7</td>\n",
       "      <td>544315******7773</td>\n",
       "      <td>2019-11-01T01:29:45.799767</td>\n",
       "      <td>359.68</td>\n",
       "      <td>NaN</td>\n",
       "      <td>False</td>\n",
       "    </tr>\n",
       "    <tr>\n",
       "      <th>3198</th>\n",
       "      <td>21323596</td>\n",
       "      <td>17348</td>\n",
       "      <td>8</td>\n",
       "      <td>650487******9884</td>\n",
       "      <td>2019-11-01T01:27:15.811098</td>\n",
       "      <td>2416.70</td>\n",
       "      <td>NaN</td>\n",
       "      <td>False</td>\n",
       "    </tr>\n",
       "  </tbody>\n",
       "</table>\n",
       "<p>3199 rows × 8 columns</p>\n",
       "</div>"
      ],
      "text/plain": [
       "      transaction_id  merchant_id  user_id       card_number  \\\n",
       "0           21320398        29744    97051  434505******9116   \n",
       "1           21320399        92895     2708  444456******4210   \n",
       "2           21320400        47759    14777  425850******7024   \n",
       "3           21320401        68657    69758  464296******3991   \n",
       "4           21320402        54075    64367  650487******6116   \n",
       "...              ...          ...      ...               ...   \n",
       "3194        21323592        50493    49581  650486******4139   \n",
       "3195        21323593         9603    59275  528052******3611   \n",
       "3196        21323594        57997    84486  522688******9874   \n",
       "3197        21323595        35930        7  544315******7773   \n",
       "3198        21323596        17348        8  650487******9884   \n",
       "\n",
       "                transaction_date  transaction_amount  device_id  has_cbk  \n",
       "0     2019-12-01T23:16:32.812632              374.56   285475.0    False  \n",
       "1     2019-12-01T22:45:37.873639              734.87   497105.0     True  \n",
       "2     2019-12-01T22:22:43.021495              760.36        NaN    False  \n",
       "3     2019-12-01T21:59:19.797129             2556.13        NaN     True  \n",
       "4     2019-12-01T21:30:53.347051               55.36   860232.0    False  \n",
       "...                          ...                 ...        ...      ...  \n",
       "3194  2019-11-01T13:05:34.054967              744.15        NaN    False  \n",
       "3195  2019-11-01T11:47:02.404963             1403.67        NaN    False  \n",
       "3196  2019-11-01T10:23:50.555604                1.55        NaN    False  \n",
       "3197  2019-11-01T01:29:45.799767              359.68        NaN    False  \n",
       "3198  2019-11-01T01:27:15.811098             2416.70        NaN    False  \n",
       "\n",
       "[3199 rows x 8 columns]"
      ]
     },
     "metadata": {},
     "output_type": "display_data"
    }
   ],
   "source": [
    "table_transactional_sample = pd.read_csv('transactional-sample.csv')\n",
    "display(table_transactional_sample)"
   ]
  },
  {
   "cell_type": "code",
   "execution_count": 103,
   "id": "703ac8b7",
   "metadata": {},
   "outputs": [
    {
     "name": "stdout",
     "output_type": "stream",
     "text": [
      "Number of entries: 3199\n",
      "Number of variables: 8\n"
     ]
    }
   ],
   "source": [
    "print(f'Number of entries: {table_transactional_sample.shape[0]}')\n",
    "print(f'Number of variables: {table_transactional_sample.shape[1]}')"
   ]
  },
  {
   "cell_type": "code",
   "execution_count": 99,
   "id": "bc79748c",
   "metadata": {},
   "outputs": [
    {
     "data": {
      "text/html": [
       "<div>\n",
       "<style scoped>\n",
       "    .dataframe tbody tr th:only-of-type {\n",
       "        vertical-align: middle;\n",
       "    }\n",
       "\n",
       "    .dataframe tbody tr th {\n",
       "        vertical-align: top;\n",
       "    }\n",
       "\n",
       "    .dataframe thead th {\n",
       "        text-align: right;\n",
       "    }\n",
       "</style>\n",
       "<table border=\"1\" class=\"dataframe\">\n",
       "  <thead>\n",
       "    <tr style=\"text-align: right;\">\n",
       "      <th></th>\n",
       "      <th>transaction_id</th>\n",
       "      <th>merchant_id</th>\n",
       "      <th>user_id</th>\n",
       "      <th>transaction_amount</th>\n",
       "      <th>device_id</th>\n",
       "    </tr>\n",
       "  </thead>\n",
       "  <tbody>\n",
       "    <tr>\n",
       "      <th>count</th>\n",
       "      <td>3.199000e+03</td>\n",
       "      <td>3199.000000</td>\n",
       "      <td>3199.000000</td>\n",
       "      <td>3199.000000</td>\n",
       "      <td>2369.000000</td>\n",
       "    </tr>\n",
       "    <tr>\n",
       "      <th>mean</th>\n",
       "      <td>2.132200e+07</td>\n",
       "      <td>48771.128790</td>\n",
       "      <td>50891.077212</td>\n",
       "      <td>767.812904</td>\n",
       "      <td>493924.859856</td>\n",
       "    </tr>\n",
       "    <tr>\n",
       "      <th>std</th>\n",
       "      <td>9.236161e+02</td>\n",
       "      <td>29100.360839</td>\n",
       "      <td>29515.282827</td>\n",
       "      <td>889.095904</td>\n",
       "      <td>283785.584545</td>\n",
       "    </tr>\n",
       "    <tr>\n",
       "      <th>min</th>\n",
       "      <td>2.132040e+07</td>\n",
       "      <td>16.000000</td>\n",
       "      <td>6.000000</td>\n",
       "      <td>1.220000</td>\n",
       "      <td>2.000000</td>\n",
       "    </tr>\n",
       "    <tr>\n",
       "      <th>25%</th>\n",
       "      <td>2.132120e+07</td>\n",
       "      <td>23426.000000</td>\n",
       "      <td>24267.500000</td>\n",
       "      <td>205.235000</td>\n",
       "      <td>259344.000000</td>\n",
       "    </tr>\n",
       "    <tr>\n",
       "      <th>50%</th>\n",
       "      <td>2.132200e+07</td>\n",
       "      <td>48752.000000</td>\n",
       "      <td>52307.000000</td>\n",
       "      <td>415.940000</td>\n",
       "      <td>495443.000000</td>\n",
       "    </tr>\n",
       "    <tr>\n",
       "      <th>75%</th>\n",
       "      <td>2.132280e+07</td>\n",
       "      <td>73915.000000</td>\n",
       "      <td>76837.000000</td>\n",
       "      <td>981.680000</td>\n",
       "      <td>733243.000000</td>\n",
       "    </tr>\n",
       "    <tr>\n",
       "      <th>max</th>\n",
       "      <td>2.132360e+07</td>\n",
       "      <td>99799.000000</td>\n",
       "      <td>99974.000000</td>\n",
       "      <td>4097.210000</td>\n",
       "      <td>999843.000000</td>\n",
       "    </tr>\n",
       "  </tbody>\n",
       "</table>\n",
       "</div>"
      ],
      "text/plain": [
       "       transaction_id   merchant_id       user_id  transaction_amount  \\\n",
       "count    3.199000e+03   3199.000000   3199.000000         3199.000000   \n",
       "mean     2.132200e+07  48771.128790  50891.077212          767.812904   \n",
       "std      9.236161e+02  29100.360839  29515.282827          889.095904   \n",
       "min      2.132040e+07     16.000000      6.000000            1.220000   \n",
       "25%      2.132120e+07  23426.000000  24267.500000          205.235000   \n",
       "50%      2.132200e+07  48752.000000  52307.000000          415.940000   \n",
       "75%      2.132280e+07  73915.000000  76837.000000          981.680000   \n",
       "max      2.132360e+07  99799.000000  99974.000000         4097.210000   \n",
       "\n",
       "           device_id  \n",
       "count    2369.000000  \n",
       "mean   493924.859856  \n",
       "std    283785.584545  \n",
       "min         2.000000  \n",
       "25%    259344.000000  \n",
       "50%    495443.000000  \n",
       "75%    733243.000000  \n",
       "max    999843.000000  "
      ]
     },
     "metadata": {},
     "output_type": "display_data"
    }
   ],
   "source": [
    "display(table_transactional_sample.describe())"
   ]
  },
  {
   "cell_type": "code",
   "execution_count": 100,
   "id": "5cfe7773",
   "metadata": {},
   "outputs": [
    {
     "name": "stdout",
     "output_type": "stream",
     "text": [
      "Number of users: 2704\n"
     ]
    }
   ],
   "source": [
    "unique_users = table_transactional_sample[\"user_id\"].nunique()\n",
    "print(f'Number of users: {unique_users}')"
   ]
  },
  {
   "cell_type": "code",
   "execution_count": 102,
   "id": "7a3bf878",
   "metadata": {},
   "outputs": [
    {
     "name": "stdout",
     "output_type": "stream",
     "text": [
      "Number of merchants: 1756\n"
     ]
    }
   ],
   "source": [
    "unique_merchants = table_transactional_sample[\"merchant_id\"].nunique()\n",
    "print(f'Number of merchants: {unique_merchants}')"
   ]
  },
  {
   "cell_type": "markdown",
   "id": "bc7a5577",
   "metadata": {},
   "source": [
    "# Max, min and mean of amount"
   ]
  },
  {
   "cell_type": "markdown",
   "id": "4904f967",
   "metadata": {},
   "source": [
    "#### MAXIMUM"
   ]
  },
  {
   "cell_type": "code",
   "execution_count": 3,
   "id": "3960205b",
   "metadata": {},
   "outputs": [
    {
     "name": "stdout",
     "output_type": "stream",
     "text": [
      "4097.21\n"
     ]
    }
   ],
   "source": [
    "max_device = table_transactional_sample[\"transaction_amount\"].max()\n",
    "print(max_device)"
   ]
  },
  {
   "cell_type": "markdown",
   "id": "e6ef474e",
   "metadata": {},
   "source": [
    "#### MINIMUM"
   ]
  },
  {
   "cell_type": "code",
   "execution_count": 4,
   "id": "4accd590",
   "metadata": {},
   "outputs": [
    {
     "name": "stdout",
     "output_type": "stream",
     "text": [
      "1.22\n"
     ]
    }
   ],
   "source": [
    "min_device = table_transactional_sample[\"transaction_amount\"].min()\n",
    "print(min_device)"
   ]
  },
  {
   "cell_type": "markdown",
   "id": "a2d4c53f",
   "metadata": {},
   "source": [
    "#### MEAN "
   ]
  },
  {
   "cell_type": "code",
   "execution_count": 5,
   "id": "7b0635d5",
   "metadata": {},
   "outputs": [
    {
     "name": "stdout",
     "output_type": "stream",
     "text": [
      "767.81\n"
     ]
    }
   ],
   "source": [
    "mean_device = table_transactional_sample[\"transaction_amount\"].mean()\n",
    "print(round(mean_device, 2))"
   ]
  },
  {
   "cell_type": "markdown",
   "id": "38820819",
   "metadata": {},
   "source": [
    "# Transactions that have chargebank "
   ]
  },
  {
   "cell_type": "code",
   "execution_count": 6,
   "id": "2f25113c",
   "metadata": {},
   "outputs": [
    {
     "data": {
      "text/plain": [
       "False    2808\n",
       "True      391\n",
       "Name: has_cbk, dtype: int64"
      ]
     },
     "execution_count": 6,
     "metadata": {},
     "output_type": "execute_result"
    }
   ],
   "source": [
    "table_transactional_sample[\"has_cbk\"].value_counts()"
   ]
  },
  {
   "cell_type": "code",
   "execution_count": 7,
   "id": "d689fd87",
   "metadata": {},
   "outputs": [
    {
     "data": {
      "text/plain": [
       "False    0.877774\n",
       "True     0.122226\n",
       "Name: has_cbk, dtype: float64"
      ]
     },
     "execution_count": 7,
     "metadata": {},
     "output_type": "execute_result"
    }
   ],
   "source": [
    "table_transactional_sample[\"has_cbk\"].value_counts(normalize = True)"
   ]
  },
  {
   "cell_type": "code",
   "execution_count": 27,
   "id": "a7d4c2cc",
   "metadata": {},
   "outputs": [
    {
     "data": {
      "image/png": "[encoded data removed]",
      "text/plain": [
       "<Figure size 500x300 with 1 Axes>"
      ]
     },
     "metadata": {},
     "output_type": "display_data"
    }
   ],
   "source": [
    "from matplotlib import pyplot as plt\n",
    "  \n",
    "incidence_cbk = ['not_cbk', 'has_cbk'] \n",
    "  \n",
    "count_cbk = [87.8, 12.2] \n",
    "fig = plt.figure(figsize =(5, 3))\n",
    "plt.title('Transactions that have chargeback \\n and not have chargeback')\n",
    "plt.pie(count_cbk, labels = incidence_cbk)\n",
    "plt.show()"
   ]
  },
  {
   "cell_type": "code",
   "execution_count": 118,
   "id": "b3ada1fb",
   "metadata": {},
   "outputs": [
    {
     "data": {
      "image/png": "[encoded data removed]",
      "text/plain": [
       "<Figure size 500x300 with 1 Axes>"
      ]
     },
     "metadata": {},
     "output_type": "display_data"
    }
   ],
   "source": [
    "incidence_cbk = ['user_not_cbk', 'user_has_cbk'] \n",
    "  \n",
    "count_cbk = [97, 3] \n",
    "fig = plt.figure(figsize =(5, 3))\n",
    "plt.title('Users that have chargeback \\n and not have chargeback')\n",
    "plt.pie(count_cbk, labels = incidence_cbk)\n",
    "plt.show()"
   ]
  },
  {
   "cell_type": "code",
   "execution_count": 115,
   "id": "65d86cc1",
   "metadata": {},
   "outputs": [
    {
     "data": {
      "image/png": "[encoded data removed]",
      "text/plain": [
       "<Figure size 500x300 with 1 Axes>"
      ]
     },
     "metadata": {},
     "output_type": "display_data"
    }
   ],
   "source": [
    "incidence_cbk = ['merchant_not_cbk', 'merchant_has_cbk'] \n",
    "  \n",
    "count_cbk = [96, 4]\n",
    "fig = plt.figure(figsize =(5, 3))\n",
    "plt.title('Merchants that have chargeback \\n and not have chargeback')\n",
    "plt.pie(count_cbk, labels = incidence_cbk)\n",
    "plt.show()"
   ]
  },
  {
   "cell_type": "markdown",
   "id": "23820b96",
   "metadata": {},
   "source": [
    "# Importing the table has_cbk"
   ]
  },
  {
   "cell_type": "code",
   "execution_count": 9,
   "id": "f4dfa825",
   "metadata": {
    "scrolled": true
   },
   "outputs": [
    {
     "data": {
      "text/html": [
       "<div>\n",
       "<style scoped>\n",
       "    .dataframe tbody tr th:only-of-type {\n",
       "        vertical-align: middle;\n",
       "    }\n",
       "\n",
       "    .dataframe tbody tr th {\n",
       "        vertical-align: top;\n",
       "    }\n",
       "\n",
       "    .dataframe thead th {\n",
       "        text-align: right;\n",
       "    }\n",
       "</style>\n",
       "<table border=\"1\" class=\"dataframe\">\n",
       "  <thead>\n",
       "    <tr style=\"text-align: right;\">\n",
       "      <th></th>\n",
       "      <th>id</th>\n",
       "      <th>transaction_id</th>\n",
       "      <th>merchant_id</th>\n",
       "      <th>user_id</th>\n",
       "      <th>card_number</th>\n",
       "      <th>transaction_date</th>\n",
       "      <th>transaction_amount</th>\n",
       "      <th>device_id</th>\n",
       "      <th>has_cbk</th>\n",
       "    </tr>\n",
       "  </thead>\n",
       "  <tbody>\n",
       "    <tr>\n",
       "      <th>0</th>\n",
       "      <td>2</td>\n",
       "      <td>21320399</td>\n",
       "      <td>92895</td>\n",
       "      <td>2708</td>\n",
       "      <td>444456******4210</td>\n",
       "      <td>2019-12-01 22:45:38</td>\n",
       "      <td>734.87</td>\n",
       "      <td>497105.0</td>\n",
       "      <td>True</td>\n",
       "    </tr>\n",
       "    <tr>\n",
       "      <th>1</th>\n",
       "      <td>4</td>\n",
       "      <td>21320401</td>\n",
       "      <td>68657</td>\n",
       "      <td>69758</td>\n",
       "      <td>464296******3991</td>\n",
       "      <td>2019-12-01 21:59:20</td>\n",
       "      <td>2556.13</td>\n",
       "      <td>NaN</td>\n",
       "      <td>True</td>\n",
       "    </tr>\n",
       "    <tr>\n",
       "      <th>2</th>\n",
       "      <td>8</td>\n",
       "      <td>21320405</td>\n",
       "      <td>56107</td>\n",
       "      <td>81152</td>\n",
       "      <td>650516******9201</td>\n",
       "      <td>2019-12-01 21:24:06</td>\n",
       "      <td>188.68</td>\n",
       "      <td>486.0</td>\n",
       "      <td>True</td>\n",
       "    </tr>\n",
       "    <tr>\n",
       "      <th>3</th>\n",
       "      <td>9</td>\n",
       "      <td>21320406</td>\n",
       "      <td>56107</td>\n",
       "      <td>81152</td>\n",
       "      <td>650516******9201</td>\n",
       "      <td>2019-12-01 21:13:22</td>\n",
       "      <td>352.77</td>\n",
       "      <td>486.0</td>\n",
       "      <td>True</td>\n",
       "    </tr>\n",
       "    <tr>\n",
       "      <th>4</th>\n",
       "      <td>10</td>\n",
       "      <td>21320407</td>\n",
       "      <td>56107</td>\n",
       "      <td>81152</td>\n",
       "      <td>650516******9201</td>\n",
       "      <td>2019-12-01 21:04:55</td>\n",
       "      <td>345.68</td>\n",
       "      <td>486.0</td>\n",
       "      <td>True</td>\n",
       "    </tr>\n",
       "    <tr>\n",
       "      <th>...</th>\n",
       "      <td>...</td>\n",
       "      <td>...</td>\n",
       "      <td>...</td>\n",
       "      <td>...</td>\n",
       "      <td>...</td>\n",
       "      <td>...</td>\n",
       "      <td>...</td>\n",
       "      <td>...</td>\n",
       "      <td>...</td>\n",
       "    </tr>\n",
       "    <tr>\n",
       "      <th>386</th>\n",
       "      <td>3158</td>\n",
       "      <td>21323555</td>\n",
       "      <td>41354</td>\n",
       "      <td>19820</td>\n",
       "      <td>606282******6581</td>\n",
       "      <td>2019-11-02 18:04:22</td>\n",
       "      <td>4028.55</td>\n",
       "      <td>NaN</td>\n",
       "      <td>True</td>\n",
       "    </tr>\n",
       "    <tr>\n",
       "      <th>387</th>\n",
       "      <td>3166</td>\n",
       "      <td>21323563</td>\n",
       "      <td>41354</td>\n",
       "      <td>19820</td>\n",
       "      <td>606282******6581</td>\n",
       "      <td>2019-11-02 16:33:21</td>\n",
       "      <td>4031.00</td>\n",
       "      <td>NaN</td>\n",
       "      <td>True</td>\n",
       "    </tr>\n",
       "    <tr>\n",
       "      <th>388</th>\n",
       "      <td>3179</td>\n",
       "      <td>21323576</td>\n",
       "      <td>16266</td>\n",
       "      <td>96495</td>\n",
       "      <td>522840******2045</td>\n",
       "      <td>2019-11-01 22:10:50</td>\n",
       "      <td>762.18</td>\n",
       "      <td>NaN</td>\n",
       "      <td>True</td>\n",
       "    </tr>\n",
       "    <tr>\n",
       "      <th>389</th>\n",
       "      <td>3181</td>\n",
       "      <td>21323578</td>\n",
       "      <td>16266</td>\n",
       "      <td>96495</td>\n",
       "      <td>552305******4782</td>\n",
       "      <td>2019-11-01 20:54:04</td>\n",
       "      <td>2936.66</td>\n",
       "      <td>NaN</td>\n",
       "      <td>True</td>\n",
       "    </tr>\n",
       "    <tr>\n",
       "      <th>390</th>\n",
       "      <td>3186</td>\n",
       "      <td>21323583</td>\n",
       "      <td>77570</td>\n",
       "      <td>75889</td>\n",
       "      <td>527496******2850</td>\n",
       "      <td>2019-11-01 19:19:51</td>\n",
       "      <td>1726.65</td>\n",
       "      <td>NaN</td>\n",
       "      <td>True</td>\n",
       "    </tr>\n",
       "  </tbody>\n",
       "</table>\n",
       "<p>391 rows × 9 columns</p>\n",
       "</div>"
      ],
      "text/plain": [
       "       id  transaction_id  merchant_id  user_id       card_number  \\\n",
       "0       2        21320399        92895     2708  444456******4210   \n",
       "1       4        21320401        68657    69758  464296******3991   \n",
       "2       8        21320405        56107    81152  650516******9201   \n",
       "3       9        21320406        56107    81152  650516******9201   \n",
       "4      10        21320407        56107    81152  650516******9201   \n",
       "..    ...             ...          ...      ...               ...   \n",
       "386  3158        21323555        41354    19820  606282******6581   \n",
       "387  3166        21323563        41354    19820  606282******6581   \n",
       "388  3179        21323576        16266    96495  522840******2045   \n",
       "389  3181        21323578        16266    96495  552305******4782   \n",
       "390  3186        21323583        77570    75889  527496******2850   \n",
       "\n",
       "        transaction_date  transaction_amount  device_id  has_cbk  \n",
       "0    2019-12-01 22:45:38              734.87   497105.0     True  \n",
       "1    2019-12-01 21:59:20             2556.13        NaN     True  \n",
       "2    2019-12-01 21:24:06              188.68      486.0     True  \n",
       "3    2019-12-01 21:13:22              352.77      486.0     True  \n",
       "4    2019-12-01 21:04:55              345.68      486.0     True  \n",
       "..                   ...                 ...        ...      ...  \n",
       "386  2019-11-02 18:04:22             4028.55        NaN     True  \n",
       "387  2019-11-02 16:33:21             4031.00        NaN     True  \n",
       "388  2019-11-01 22:10:50              762.18        NaN     True  \n",
       "389  2019-11-01 20:54:04             2936.66        NaN     True  \n",
       "390  2019-11-01 19:19:51             1726.65        NaN     True  \n",
       "\n",
       "[391 rows x 9 columns]"
      ]
     },
     "metadata": {},
     "output_type": "display_data"
    }
   ],
   "source": [
    "table_has_cbk = pd.read_csv('has_cbk.csv')\n",
    "display(table_has_cbk)"
   ]
  },
  {
   "cell_type": "code",
   "execution_count": 116,
   "id": "9051f61e",
   "metadata": {},
   "outputs": [
    {
     "name": "stdout",
     "output_type": "stream",
     "text": [
      " Number of transactions with \n",
      " above-average price: 234\n"
     ]
    }
   ],
   "source": [
    "count_internet = 0\n",
    "\n",
    "for line in table_has_cbk['transaction_amount']:\n",
    "    if line > 767:\n",
    "        count_internet += 1\n",
    "print(f\" Number of transactions with \\n above-average price: {count_internet}\")"
   ]
  },
  {
   "cell_type": "markdown",
   "id": "272f08b0",
   "metadata": {},
   "source": [
    "# Importing the table user_has_cbk"
   ]
  },
  {
   "cell_type": "code",
   "execution_count": 14,
   "id": "da59ac3d",
   "metadata": {},
   "outputs": [
    {
     "data": {
      "text/html": [
       "<div>\n",
       "<style scoped>\n",
       "    .dataframe tbody tr th:only-of-type {\n",
       "        vertical-align: middle;\n",
       "    }\n",
       "\n",
       "    .dataframe tbody tr th {\n",
       "        vertical-align: top;\n",
       "    }\n",
       "\n",
       "    .dataframe thead th {\n",
       "        text-align: right;\n",
       "    }\n",
       "</style>\n",
       "<table border=\"1\" class=\"dataframe\">\n",
       "  <thead>\n",
       "    <tr style=\"text-align: right;\">\n",
       "      <th></th>\n",
       "      <th>has_cbk</th>\n",
       "      <th>user_id</th>\n",
       "      <th>count_user</th>\n",
       "    </tr>\n",
       "  </thead>\n",
       "  <tbody>\n",
       "    <tr>\n",
       "      <th>0</th>\n",
       "      <td>True</td>\n",
       "      <td>11750</td>\n",
       "      <td>25</td>\n",
       "    </tr>\n",
       "    <tr>\n",
       "      <th>1</th>\n",
       "      <td>True</td>\n",
       "      <td>91637</td>\n",
       "      <td>19</td>\n",
       "    </tr>\n",
       "    <tr>\n",
       "      <th>2</th>\n",
       "      <td>True</td>\n",
       "      <td>79054</td>\n",
       "      <td>15</td>\n",
       "    </tr>\n",
       "    <tr>\n",
       "      <th>3</th>\n",
       "      <td>True</td>\n",
       "      <td>96025</td>\n",
       "      <td>13</td>\n",
       "    </tr>\n",
       "    <tr>\n",
       "      <th>4</th>\n",
       "      <td>True</td>\n",
       "      <td>78262</td>\n",
       "      <td>12</td>\n",
       "    </tr>\n",
       "    <tr>\n",
       "      <th>...</th>\n",
       "      <td>...</td>\n",
       "      <td>...</td>\n",
       "      <td>...</td>\n",
       "    </tr>\n",
       "    <tr>\n",
       "      <th>73</th>\n",
       "      <td>True</td>\n",
       "      <td>75889</td>\n",
       "      <td>2</td>\n",
       "    </tr>\n",
       "    <tr>\n",
       "      <th>74</th>\n",
       "      <td>True</td>\n",
       "      <td>47604</td>\n",
       "      <td>2</td>\n",
       "    </tr>\n",
       "    <tr>\n",
       "      <th>75</th>\n",
       "      <td>True</td>\n",
       "      <td>90176</td>\n",
       "      <td>2</td>\n",
       "    </tr>\n",
       "    <tr>\n",
       "      <th>76</th>\n",
       "      <td>True</td>\n",
       "      <td>26251</td>\n",
       "      <td>2</td>\n",
       "    </tr>\n",
       "    <tr>\n",
       "      <th>77</th>\n",
       "      <td>True</td>\n",
       "      <td>96495</td>\n",
       "      <td>2</td>\n",
       "    </tr>\n",
       "  </tbody>\n",
       "</table>\n",
       "<p>78 rows × 3 columns</p>\n",
       "</div>"
      ],
      "text/plain": [
       "    has_cbk  user_id  count_user\n",
       "0      True    11750          25\n",
       "1      True    91637          19\n",
       "2      True    79054          15\n",
       "3      True    96025          13\n",
       "4      True    78262          12\n",
       "..      ...      ...         ...\n",
       "73     True    75889           2\n",
       "74     True    47604           2\n",
       "75     True    90176           2\n",
       "76     True    26251           2\n",
       "77     True    96495           2\n",
       "\n",
       "[78 rows x 3 columns]"
      ]
     },
     "metadata": {},
     "output_type": "display_data"
    }
   ],
   "source": [
    "table_user_has_cbk = pd.read_csv('user_has_cbk.csv')\n",
    "display(table_user_has_cbk)"
   ]
  },
  {
   "cell_type": "markdown",
   "id": "ebdfd11f",
   "metadata": {},
   "source": [
    "#  Importing the table merchant_has_cbk"
   ]
  },
  {
   "cell_type": "code",
   "execution_count": 17,
   "id": "d9ba44bf",
   "metadata": {},
   "outputs": [
    {
     "data": {
      "text/html": [
       "<div>\n",
       "<style scoped>\n",
       "    .dataframe tbody tr th:only-of-type {\n",
       "        vertical-align: middle;\n",
       "    }\n",
       "\n",
       "    .dataframe tbody tr th {\n",
       "        vertical-align: top;\n",
       "    }\n",
       "\n",
       "    .dataframe thead th {\n",
       "        text-align: right;\n",
       "    }\n",
       "</style>\n",
       "<table border=\"1\" class=\"dataframe\">\n",
       "  <thead>\n",
       "    <tr style=\"text-align: right;\">\n",
       "      <th></th>\n",
       "      <th>has_cbk</th>\n",
       "      <th>merchant_id</th>\n",
       "      <th>count_merchant</th>\n",
       "    </tr>\n",
       "  </thead>\n",
       "  <tbody>\n",
       "    <tr>\n",
       "      <th>0</th>\n",
       "      <td>True</td>\n",
       "      <td>17275</td>\n",
       "      <td>22</td>\n",
       "    </tr>\n",
       "    <tr>\n",
       "      <th>1</th>\n",
       "      <td>True</td>\n",
       "      <td>4705</td>\n",
       "      <td>19</td>\n",
       "    </tr>\n",
       "    <tr>\n",
       "      <th>2</th>\n",
       "      <td>True</td>\n",
       "      <td>1308</td>\n",
       "      <td>15</td>\n",
       "    </tr>\n",
       "    <tr>\n",
       "      <th>3</th>\n",
       "      <td>True</td>\n",
       "      <td>53041</td>\n",
       "      <td>14</td>\n",
       "    </tr>\n",
       "    <tr>\n",
       "      <th>4</th>\n",
       "      <td>True</td>\n",
       "      <td>77130</td>\n",
       "      <td>13</td>\n",
       "    </tr>\n",
       "    <tr>\n",
       "      <th>...</th>\n",
       "      <td>...</td>\n",
       "      <td>...</td>\n",
       "      <td>...</td>\n",
       "    </tr>\n",
       "    <tr>\n",
       "      <th>61</th>\n",
       "      <td>True</td>\n",
       "      <td>77570</td>\n",
       "      <td>2</td>\n",
       "    </tr>\n",
       "    <tr>\n",
       "      <th>62</th>\n",
       "      <td>True</td>\n",
       "      <td>23722</td>\n",
       "      <td>2</td>\n",
       "    </tr>\n",
       "    <tr>\n",
       "      <th>63</th>\n",
       "      <td>True</td>\n",
       "      <td>5533</td>\n",
       "      <td>2</td>\n",
       "    </tr>\n",
       "    <tr>\n",
       "      <th>64</th>\n",
       "      <td>True</td>\n",
       "      <td>67764</td>\n",
       "      <td>2</td>\n",
       "    </tr>\n",
       "    <tr>\n",
       "      <th>65</th>\n",
       "      <td>True</td>\n",
       "      <td>16266</td>\n",
       "      <td>2</td>\n",
       "    </tr>\n",
       "  </tbody>\n",
       "</table>\n",
       "<p>66 rows × 3 columns</p>\n",
       "</div>"
      ],
      "text/plain": [
       "    has_cbk  merchant_id  count_merchant\n",
       "0      True        17275              22\n",
       "1      True         4705              19\n",
       "2      True         1308              15\n",
       "3      True        53041              14\n",
       "4      True        77130              13\n",
       "..      ...          ...             ...\n",
       "61     True        77570               2\n",
       "62     True        23722               2\n",
       "63     True         5533               2\n",
       "64     True        67764               2\n",
       "65     True        16266               2\n",
       "\n",
       "[66 rows x 3 columns]"
      ]
     },
     "metadata": {},
     "output_type": "display_data"
    }
   ],
   "source": [
    "table_merchant_has_cbk = pd.read_csv('merchant_has_cbk.csv')\n",
    "display(table_merchant_has_cbk)"
   ]
  },
  {
   "cell_type": "markdown",
   "id": "fea2d417",
   "metadata": {},
   "source": [
    "# Internet transactions with chargeback"
   ]
  },
  {
   "cell_type": "code",
   "execution_count": 37,
   "id": "1c63b967",
   "metadata": {},
   "outputs": [
    {
     "data": {
      "text/html": [
       "<div>\n",
       "<style scoped>\n",
       "    .dataframe tbody tr th:only-of-type {\n",
       "        vertical-align: middle;\n",
       "    }\n",
       "\n",
       "    .dataframe tbody tr th {\n",
       "        vertical-align: top;\n",
       "    }\n",
       "\n",
       "    .dataframe thead th {\n",
       "        text-align: right;\n",
       "    }\n",
       "</style>\n",
       "<table border=\"1\" class=\"dataframe\">\n",
       "  <thead>\n",
       "    <tr style=\"text-align: right;\">\n",
       "      <th></th>\n",
       "      <th>id</th>\n",
       "      <th>transaction_id</th>\n",
       "      <th>merchant_id</th>\n",
       "      <th>user_id</th>\n",
       "      <th>card_number</th>\n",
       "      <th>transaction_date</th>\n",
       "      <th>transaction_amount</th>\n",
       "      <th>device_id</th>\n",
       "      <th>has_cbk</th>\n",
       "    </tr>\n",
       "  </thead>\n",
       "  <tbody>\n",
       "    <tr>\n",
       "      <th>0</th>\n",
       "      <td>4</td>\n",
       "      <td>21320401</td>\n",
       "      <td>68657</td>\n",
       "      <td>69758</td>\n",
       "      <td>464296******3991</td>\n",
       "      <td>2019-12-01 21:59:20</td>\n",
       "      <td>2556.13</td>\n",
       "      <td>NaN</td>\n",
       "      <td>True</td>\n",
       "    </tr>\n",
       "    <tr>\n",
       "      <th>1</th>\n",
       "      <td>33</td>\n",
       "      <td>21320430</td>\n",
       "      <td>56977</td>\n",
       "      <td>69758</td>\n",
       "      <td>464296******3991</td>\n",
       "      <td>2019-12-01 19:17:22</td>\n",
       "      <td>2803.32</td>\n",
       "      <td>NaN</td>\n",
       "      <td>True</td>\n",
       "    </tr>\n",
       "    <tr>\n",
       "      <th>2</th>\n",
       "      <td>135</td>\n",
       "      <td>21320532</td>\n",
       "      <td>72723</td>\n",
       "      <td>26251</td>\n",
       "      <td>530034******4649</td>\n",
       "      <td>2019-12-01 03:35:18</td>\n",
       "      <td>695.36</td>\n",
       "      <td>NaN</td>\n",
       "      <td>True</td>\n",
       "    </tr>\n",
       "    <tr>\n",
       "      <th>3</th>\n",
       "      <td>136</td>\n",
       "      <td>21320533</td>\n",
       "      <td>72723</td>\n",
       "      <td>26251</td>\n",
       "      <td>530034******4649</td>\n",
       "      <td>2019-12-01 03:20:10</td>\n",
       "      <td>991.37</td>\n",
       "      <td>NaN</td>\n",
       "      <td>True</td>\n",
       "    </tr>\n",
       "    <tr>\n",
       "      <th>4</th>\n",
       "      <td>172</td>\n",
       "      <td>21320569</td>\n",
       "      <td>11570</td>\n",
       "      <td>43018</td>\n",
       "      <td>550209******5242</td>\n",
       "      <td>2019-11-30 21:59:49</td>\n",
       "      <td>79.85</td>\n",
       "      <td>NaN</td>\n",
       "      <td>True</td>\n",
       "    </tr>\n",
       "    <tr>\n",
       "      <th>...</th>\n",
       "      <td>...</td>\n",
       "      <td>...</td>\n",
       "      <td>...</td>\n",
       "      <td>...</td>\n",
       "      <td>...</td>\n",
       "      <td>...</td>\n",
       "      <td>...</td>\n",
       "      <td>...</td>\n",
       "      <td>...</td>\n",
       "    </tr>\n",
       "    <tr>\n",
       "      <th>62</th>\n",
       "      <td>3158</td>\n",
       "      <td>21323555</td>\n",
       "      <td>41354</td>\n",
       "      <td>19820</td>\n",
       "      <td>606282******6581</td>\n",
       "      <td>2019-11-02 18:04:22</td>\n",
       "      <td>4028.55</td>\n",
       "      <td>NaN</td>\n",
       "      <td>True</td>\n",
       "    </tr>\n",
       "    <tr>\n",
       "      <th>63</th>\n",
       "      <td>3166</td>\n",
       "      <td>21323563</td>\n",
       "      <td>41354</td>\n",
       "      <td>19820</td>\n",
       "      <td>606282******6581</td>\n",
       "      <td>2019-11-02 16:33:21</td>\n",
       "      <td>4031.00</td>\n",
       "      <td>NaN</td>\n",
       "      <td>True</td>\n",
       "    </tr>\n",
       "    <tr>\n",
       "      <th>64</th>\n",
       "      <td>3179</td>\n",
       "      <td>21323576</td>\n",
       "      <td>16266</td>\n",
       "      <td>96495</td>\n",
       "      <td>522840******2045</td>\n",
       "      <td>2019-11-01 22:10:50</td>\n",
       "      <td>762.18</td>\n",
       "      <td>NaN</td>\n",
       "      <td>True</td>\n",
       "    </tr>\n",
       "    <tr>\n",
       "      <th>65</th>\n",
       "      <td>3181</td>\n",
       "      <td>21323578</td>\n",
       "      <td>16266</td>\n",
       "      <td>96495</td>\n",
       "      <td>552305******4782</td>\n",
       "      <td>2019-11-01 20:54:04</td>\n",
       "      <td>2936.66</td>\n",
       "      <td>NaN</td>\n",
       "      <td>True</td>\n",
       "    </tr>\n",
       "    <tr>\n",
       "      <th>66</th>\n",
       "      <td>3186</td>\n",
       "      <td>21323583</td>\n",
       "      <td>77570</td>\n",
       "      <td>75889</td>\n",
       "      <td>527496******2850</td>\n",
       "      <td>2019-11-01 19:19:51</td>\n",
       "      <td>1726.65</td>\n",
       "      <td>NaN</td>\n",
       "      <td>True</td>\n",
       "    </tr>\n",
       "  </tbody>\n",
       "</table>\n",
       "<p>67 rows × 9 columns</p>\n",
       "</div>"
      ],
      "text/plain": [
       "      id  transaction_id  merchant_id  user_id       card_number  \\\n",
       "0      4        21320401        68657    69758  464296******3991   \n",
       "1     33        21320430        56977    69758  464296******3991   \n",
       "2    135        21320532        72723    26251  530034******4649   \n",
       "3    136        21320533        72723    26251  530034******4649   \n",
       "4    172        21320569        11570    43018  550209******5242   \n",
       "..   ...             ...          ...      ...               ...   \n",
       "62  3158        21323555        41354    19820  606282******6581   \n",
       "63  3166        21323563        41354    19820  606282******6581   \n",
       "64  3179        21323576        16266    96495  522840******2045   \n",
       "65  3181        21323578        16266    96495  552305******4782   \n",
       "66  3186        21323583        77570    75889  527496******2850   \n",
       "\n",
       "       transaction_date  transaction_amount  device_id  has_cbk  \n",
       "0   2019-12-01 21:59:20             2556.13        NaN     True  \n",
       "1   2019-12-01 19:17:22             2803.32        NaN     True  \n",
       "2   2019-12-01 03:35:18              695.36        NaN     True  \n",
       "3   2019-12-01 03:20:10              991.37        NaN     True  \n",
       "4   2019-11-30 21:59:49               79.85        NaN     True  \n",
       "..                  ...                 ...        ...      ...  \n",
       "62  2019-11-02 18:04:22             4028.55        NaN     True  \n",
       "63  2019-11-02 16:33:21             4031.00        NaN     True  \n",
       "64  2019-11-01 22:10:50              762.18        NaN     True  \n",
       "65  2019-11-01 20:54:04             2936.66        NaN     True  \n",
       "66  2019-11-01 19:19:51             1726.65        NaN     True  \n",
       "\n",
       "[67 rows x 9 columns]"
      ]
     },
     "metadata": {},
     "output_type": "display_data"
    }
   ],
   "source": [
    "table_internet_transactions = pd.read_csv('internet_transaction.csv')\n",
    "display(table_internet_transactions)"
   ]
  },
  {
   "cell_type": "code",
   "execution_count": 81,
   "id": "cff5c467",
   "metadata": {},
   "outputs": [
    {
     "data": {
      "image/png": "[encoded data removed]",
      "text/plain": [
       "<Figure size 500x300 with 1 Axes>"
      ]
     },
     "metadata": {},
     "output_type": "display_data"
    }
   ],
   "source": [
    "incidence_internet_cbk = ['internet', 'card machine'] \n",
    "  \n",
    "count_cbk = [17, 83]\n",
    "fig = plt.figure(figsize =(5, 3))\n",
    "plt.title('Chargeback in internet transactions \\n and in card machine')\n",
    "plt.pie(count_cbk, labels = incidence_internet_cbk)\n",
    "plt.show()"
   ]
  },
  {
   "cell_type": "code",
   "execution_count": 119,
   "id": "a1648c41",
   "metadata": {},
   "outputs": [
    {
     "name": "stdout",
     "output_type": "stream",
     "text": [
      "count_card: 74.05%\n",
      "count_internet: 25.95%\n",
      "\n",
      "\n"
     ]
    },
    {
     "data": {
      "image/png": "[encoded data removed]",
      "text/plain": [
       "<Figure size 500x300 with 1 Axes>"
      ]
     },
     "metadata": {},
     "output_type": "display_data"
    }
   ],
   "source": [
    "import numpy\n",
    "\n",
    "\n",
    "count_internet = 0\n",
    "count_card = 0\n",
    "\n",
    "for line in table_transactional_sample['device_id']:\n",
    "    if numpy.isnan(line):\n",
    "        count_internet += 1\n",
    "    else:\n",
    "        count_card += 1\n",
    "        \n",
    "count_card = (100 * count_card) / 3199\n",
    "count_internet = (100 * count_internet) / 3199\n",
    "\n",
    "card_percentage = round(count_card, 2)\n",
    "internet_percentage = round(count_internet, 2)\n",
    "\n",
    "print(\"count_card: \" + str(card_percentage) + \"%\")\n",
    "print(\"count_internet: \" + str(internet_percentage) + \"%\" + \"\\n\" + \"\\n\")\n",
    "\n",
    "incidence_cbk = ['internet', 'card machine'] \n",
    "  \n",
    "count_cbk = [internet_percentage, card_percentage]\n",
    "fig = plt.figure(figsize =(5, 3))\n",
    "plt.title('Total in internet transactions \\n and in card machine')\n",
    "plt.pie(count_cbk, labels = incidence_cbk)\n",
    "plt.show()"
   ]
  },
  {
   "cell_type": "code",
   "execution_count": null,
   "id": "523b0230",
   "metadata": {},
   "outputs": [],
   "source": []
  }
 ],
 "metadata": {
  "kernelspec": {
   "display_name": "Python 3 (ipykernel)",
   "language": "python",
   "name": "python3"
  },
  "language_info": {
   "codemirror_mode": {
    "name": "ipython",
    "version": 3
   },
   "file_extension": ".py",
   "mimetype": "text/x-python",
   "name": "python",
   "nbconvert_exporter": "python",
   "pygments_lexer": "ipython3",
   "version": "3.9.13"
  }
 },
 "nbformat": 4,
 "nbformat_minor": 5
}
